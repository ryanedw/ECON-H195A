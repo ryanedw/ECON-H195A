{
 "cells": [
  {
   "cell_type": "markdown",
   "id": "0c7944a9",
   "metadata": {},
   "source": [
    "[The National Longitudinal Study of Adolescent to Adult Health (Add Health)](https://addhealth.cpc.unc.edu/) is a panel study of about 20,000 adolescents first interviewed in grades 7-12 in 1994-1995. The cohort has been reinterviewed 4 times for a total of 5 waves of data collection. \n",
    "\n",
    "The third wave of data collection occurred in 2001-2002, when the cohort was aged 18-26 and a little over 15,000 members were successfully reinterviewed. The [Study Design](https://addhealth.cpc.unc.edu/documentation/study-design/) page shows this and other details.\n",
    "\n",
    "The [public-use files](https://addhealth.cpc.unc.edu/data/#public-use) are substantially smaller than the full study, however, because of privacy concerns. The dataset we examine here, which is the public extract of the in-home questionnaire responses from wave 3, contains a little under 5,000 observations."
   ]
  },
  {
   "cell_type": "code",
   "execution_count": 5,
   "id": "ec4c17e6",
   "metadata": {},
   "outputs": [
    {
     "name": "stderr",
     "output_type": "stream",
     "text": [
      "── \u001b[1mAttaching packages\u001b[22m ─────────────────────────────────────── tidyverse 1.3.0 ──\n",
      "\n",
      "\u001b[32m✔\u001b[39m \u001b[34mggplot2\u001b[39m 3.4.4     \u001b[32m✔\u001b[39m \u001b[34mpurrr  \u001b[39m 1.0.2\n",
      "\u001b[32m✔\u001b[39m \u001b[34mtibble \u001b[39m 3.2.1     \u001b[32m✔\u001b[39m \u001b[34mdplyr  \u001b[39m 1.1.3\n",
      "\u001b[32m✔\u001b[39m \u001b[34mtidyr  \u001b[39m 1.3.0     \u001b[32m✔\u001b[39m \u001b[34mstringr\u001b[39m 1.5.0\n",
      "\u001b[32m✔\u001b[39m \u001b[34mreadr  \u001b[39m 2.1.4     \u001b[32m✔\u001b[39m \u001b[34mforcats\u001b[39m 1.0.0\n",
      "\n",
      "── \u001b[1mConflicts\u001b[22m ────────────────────────────────────────── tidyverse_conflicts() ──\n",
      "\u001b[31m✖\u001b[39m \u001b[34mdplyr\u001b[39m::\u001b[32mfilter()\u001b[39m masks \u001b[34mstats\u001b[39m::filter()\n",
      "\u001b[31m✖\u001b[39m \u001b[34mdplyr\u001b[39m::\u001b[32mlag()\u001b[39m    masks \u001b[34mstats\u001b[39m::lag()\n",
      "\n"
     ]
    }
   ],
   "source": [
    "library(haven)\n",
    "library(tidyverse)"
   ]
  },
  {
   "cell_type": "markdown",
   "id": "2a46c865",
   "metadata": {},
   "source": [
    "This extract contains the entire public-file dataset for the wave 3 in-home questionnaire, courtesy of [ICSPR](https://www.icpsr.umich.edu/web/ICPSR/studies/21600/). Here are the PDFs for the [questionnaire](doc/21600-0012-Questionnaire.pdf) and the [codebook](doc/21600-0012-Codebook.pdf)."
   ]
  },
  {
   "cell_type": "code",
   "execution_count": 3,
   "id": "00730a45",
   "metadata": {},
   "outputs": [],
   "source": [
    "addhealth_w3 <- read_dta(\"data/21600-0012-Data.dta\")"
   ]
  },
  {
   "cell_type": "code",
   "execution_count": 4,
   "id": "1afaa0de",
   "metadata": {},
   "outputs": [
    {
     "data": {
      "text/html": [
       "<table class=\"dataframe\">\n",
       "<caption>A tibble: 6 × 1851</caption>\n",
       "<thead>\n",
       "\t<tr><th scope=col>CASEID</th><th scope=col>AID</th><th scope=col>IMONTH3</th><th scope=col>IDAY3</th><th scope=col>IYEAR3</th><th scope=col>MACNO3</th><th scope=col>INTID3</th><th scope=col>BIO_SEX3</th><th scope=col>VERSION3</th><th scope=col>FRIEND</th><th scope=col>⋯</th><th scope=col>H3IR12</th><th scope=col>H3IR13</th><th scope=col>H3IR14</th><th scope=col>H3IR15</th><th scope=col>H3IR16</th><th scope=col>H3IR17</th><th scope=col>H3IR18</th><th scope=col>H3IR19</th><th scope=col>H3IR20</th><th scope=col>H3IR21</th></tr>\n",
       "\t<tr><th scope=col>&lt;dbl&gt;</th><th scope=col>&lt;chr&gt;</th><th scope=col>&lt;dbl+lbl&gt;</th><th scope=col>&lt;dbl&gt;</th><th scope=col>&lt;dbl&gt;</th><th scope=col>&lt;dbl&gt;</th><th scope=col>&lt;dbl&gt;</th><th scope=col>&lt;dbl+lbl&gt;</th><th scope=col>&lt;dbl+lbl&gt;</th><th scope=col>&lt;dbl+lbl&gt;</th><th scope=col>⋯</th><th scope=col>&lt;dbl+lbl&gt;</th><th scope=col>&lt;dbl+lbl&gt;</th><th scope=col>&lt;dbl+lbl&gt;</th><th scope=col>&lt;dbl+lbl&gt;</th><th scope=col>&lt;dbl+lbl&gt;</th><th scope=col>&lt;dbl+lbl&gt;</th><th scope=col>&lt;dbl+lbl&gt;</th><th scope=col>&lt;dbl+lbl&gt;</th><th scope=col>&lt;dbl+lbl&gt;</th><th scope=col>&lt;dbl+lbl&gt;</th></tr>\n",
       "</thead>\n",
       "<tbody>\n",
       "\t<tr><td>1</td><td>57100270</td><td>12</td><td>13</td><td>2001</td><td>707</td><td>611707</td><td>2</td><td>13</td><td>0</td><td>⋯</td><td>0</td><td>0</td><td>0</td><td>0</td><td>0</td><td>3</td><td>1</td><td>2</td><td>0</td><td>0</td></tr>\n",
       "\t<tr><td>2</td><td>57101310</td><td>11</td><td>19</td><td>2001</td><td>537</td><td>505537</td><td>2</td><td>11</td><td>0</td><td>⋯</td><td>0</td><td>0</td><td>0</td><td>0</td><td>0</td><td>1</td><td>1</td><td>2</td><td>2</td><td>1</td></tr>\n",
       "\t<tr><td>3</td><td>57103869</td><td> 1</td><td>23</td><td>2002</td><td>691</td><td>610691</td><td>1</td><td>15</td><td>0</td><td>⋯</td><td>0</td><td>1</td><td>0</td><td>0</td><td>0</td><td>1</td><td>1</td><td>3</td><td>2</td><td>0</td></tr>\n",
       "\t<tr><td>4</td><td>57104676</td><td> 3</td><td>11</td><td>2002</td><td>577</td><td>520577</td><td>1</td><td>16</td><td>1</td><td>⋯</td><td>0</td><td>1</td><td>0</td><td>0</td><td>0</td><td>1</td><td>1</td><td>1</td><td>0</td><td>0</td></tr>\n",
       "\t<tr><td>5</td><td>57109625</td><td> 2</td><td>26</td><td>2002</td><td>810</td><td>552810</td><td>1</td><td>16</td><td>1</td><td>⋯</td><td>0</td><td>1</td><td>0</td><td>0</td><td>0</td><td>5</td><td>1</td><td>2</td><td>0</td><td>0</td></tr>\n",
       "\t<tr><td>6</td><td>57111071</td><td>11</td><td> 9</td><td>2001</td><td>164</td><td>609164</td><td>1</td><td>11</td><td>1</td><td>⋯</td><td>0</td><td>1</td><td>0</td><td>0</td><td>0</td><td>5</td><td>2</td><td>2</td><td>0</td><td>0</td></tr>\n",
       "</tbody>\n",
       "</table>\n"
      ],
      "text/latex": [
       "A tibble: 6 × 1851\n",
       "\\begin{tabular}{lllllllllllllllllllll}\n",
       " CASEID & AID & IMONTH3 & IDAY3 & IYEAR3 & MACNO3 & INTID3 & BIO\\_SEX3 & VERSION3 & FRIEND & ⋯ & H3IR12 & H3IR13 & H3IR14 & H3IR15 & H3IR16 & H3IR17 & H3IR18 & H3IR19 & H3IR20 & H3IR21\\\\\n",
       " <dbl> & <chr> & <dbl+lbl> & <dbl> & <dbl> & <dbl> & <dbl> & <dbl+lbl> & <dbl+lbl> & <dbl+lbl> & ⋯ & <dbl+lbl> & <dbl+lbl> & <dbl+lbl> & <dbl+lbl> & <dbl+lbl> & <dbl+lbl> & <dbl+lbl> & <dbl+lbl> & <dbl+lbl> & <dbl+lbl>\\\\\n",
       "\\hline\n",
       "\t 1 & 57100270 & 12 & 13 & 2001 & 707 & 611707 & 2 & 13 & 0 & ⋯ & 0 & 0 & 0 & 0 & 0 & 3 & 1 & 2 & 0 & 0\\\\\n",
       "\t 2 & 57101310 & 11 & 19 & 2001 & 537 & 505537 & 2 & 11 & 0 & ⋯ & 0 & 0 & 0 & 0 & 0 & 1 & 1 & 2 & 2 & 1\\\\\n",
       "\t 3 & 57103869 &  1 & 23 & 2002 & 691 & 610691 & 1 & 15 & 0 & ⋯ & 0 & 1 & 0 & 0 & 0 & 1 & 1 & 3 & 2 & 0\\\\\n",
       "\t 4 & 57104676 &  3 & 11 & 2002 & 577 & 520577 & 1 & 16 & 1 & ⋯ & 0 & 1 & 0 & 0 & 0 & 1 & 1 & 1 & 0 & 0\\\\\n",
       "\t 5 & 57109625 &  2 & 26 & 2002 & 810 & 552810 & 1 & 16 & 1 & ⋯ & 0 & 1 & 0 & 0 & 0 & 5 & 1 & 2 & 0 & 0\\\\\n",
       "\t 6 & 57111071 & 11 &  9 & 2001 & 164 & 609164 & 1 & 11 & 1 & ⋯ & 0 & 1 & 0 & 0 & 0 & 5 & 2 & 2 & 0 & 0\\\\\n",
       "\\end{tabular}\n"
      ],
      "text/markdown": [
       "\n",
       "A tibble: 6 × 1851\n",
       "\n",
       "| CASEID &lt;dbl&gt; | AID &lt;chr&gt; | IMONTH3 &lt;dbl+lbl&gt; | IDAY3 &lt;dbl&gt; | IYEAR3 &lt;dbl&gt; | MACNO3 &lt;dbl&gt; | INTID3 &lt;dbl&gt; | BIO_SEX3 &lt;dbl+lbl&gt; | VERSION3 &lt;dbl+lbl&gt; | FRIEND &lt;dbl+lbl&gt; | ⋯ ⋯ | H3IR12 &lt;dbl+lbl&gt; | H3IR13 &lt;dbl+lbl&gt; | H3IR14 &lt;dbl+lbl&gt; | H3IR15 &lt;dbl+lbl&gt; | H3IR16 &lt;dbl+lbl&gt; | H3IR17 &lt;dbl+lbl&gt; | H3IR18 &lt;dbl+lbl&gt; | H3IR19 &lt;dbl+lbl&gt; | H3IR20 &lt;dbl+lbl&gt; | H3IR21 &lt;dbl+lbl&gt; |\n",
       "|---|---|---|---|---|---|---|---|---|---|---|---|---|---|---|---|---|---|---|---|---|\n",
       "| 1 | 57100270 | 12 | 13 | 2001 | 707 | 611707 | 2 | 13 | 0 | ⋯ | 0 | 0 | 0 | 0 | 0 | 3 | 1 | 2 | 0 | 0 |\n",
       "| 2 | 57101310 | 11 | 19 | 2001 | 537 | 505537 | 2 | 11 | 0 | ⋯ | 0 | 0 | 0 | 0 | 0 | 1 | 1 | 2 | 2 | 1 |\n",
       "| 3 | 57103869 |  1 | 23 | 2002 | 691 | 610691 | 1 | 15 | 0 | ⋯ | 0 | 1 | 0 | 0 | 0 | 1 | 1 | 3 | 2 | 0 |\n",
       "| 4 | 57104676 |  3 | 11 | 2002 | 577 | 520577 | 1 | 16 | 1 | ⋯ | 0 | 1 | 0 | 0 | 0 | 1 | 1 | 1 | 0 | 0 |\n",
       "| 5 | 57109625 |  2 | 26 | 2002 | 810 | 552810 | 1 | 16 | 1 | ⋯ | 0 | 1 | 0 | 0 | 0 | 5 | 1 | 2 | 0 | 0 |\n",
       "| 6 | 57111071 | 11 |  9 | 2001 | 164 | 609164 | 1 | 11 | 1 | ⋯ | 0 | 1 | 0 | 0 | 0 | 5 | 2 | 2 | 0 | 0 |\n",
       "\n"
      ],
      "text/plain": [
       "  CASEID AID      IMONTH3 IDAY3 IYEAR3 MACNO3 INTID3 BIO_SEX3 VERSION3 FRIEND ⋯\n",
       "1 1      57100270 12      13    2001   707    611707 2        13       0      ⋯\n",
       "2 2      57101310 11      19    2001   537    505537 2        11       0      ⋯\n",
       "3 3      57103869  1      23    2002   691    610691 1        15       0      ⋯\n",
       "4 4      57104676  3      11    2002   577    520577 1        16       1      ⋯\n",
       "5 5      57109625  2      26    2002   810    552810 1        16       1      ⋯\n",
       "6 6      57111071 11       9    2001   164    609164 1        11       1      ⋯\n",
       "  H3IR12 H3IR13 H3IR14 H3IR15 H3IR16 H3IR17 H3IR18 H3IR19 H3IR20 H3IR21\n",
       "1 0      0      0      0      0      3      1      2      0      0     \n",
       "2 0      0      0      0      0      1      1      2      2      1     \n",
       "3 0      1      0      0      0      1      1      3      2      0     \n",
       "4 0      1      0      0      0      1      1      1      0      0     \n",
       "5 0      1      0      0      0      5      1      2      0      0     \n",
       "6 0      1      0      0      0      5      2      2      0      0     "
      ]
     },
     "metadata": {},
     "output_type": "display_data"
    }
   ],
   "source": [
    "head(addhealth_w3)"
   ]
  },
  {
   "cell_type": "markdown",
   "id": "c636f6c9",
   "metadata": {},
   "source": [
    "Here are some useful variables, recoded for easy analysis."
   ]
  },
  {
   "cell_type": "code",
   "execution_count": 6,
   "id": "3dca14e7",
   "metadata": {},
   "outputs": [],
   "source": [
    "# female = 1 when BIO_SEX3 == 2\n",
    "addhealth_w3 <- mutate(addhealth_w3, \n",
    "                       female = BIO_SEX3 - 1\n",
    "                      )"
   ]
  },
  {
   "cell_type": "markdown",
   "id": "0780cce4",
   "metadata": {},
   "source": [
    "Below is the self-reported doctor's diagnosis of an eating disorder (\"such as anorexia nervosa or bulimia\"), where values of 6 or more signal the question was refused, response was \"don't know,\" or not applicable. \n",
    "\n",
    "Recode to a binary indicator:"
   ]
  },
  {
   "cell_type": "code",
   "execution_count": 7,
   "id": "201236f0",
   "metadata": {},
   "outputs": [],
   "source": [
    "addhealth_w3 <- mutate(addhealth_w3,\n",
    "                       eatdis = \n",
    "                       ifelse(H3GH8 < 6, H3GH8, NA)\n",
    "                      )"
   ]
  },
  {
   "cell_type": "markdown",
   "id": "a8de9f58",
   "metadata": {},
   "source": [
    "This is the prevalence in the sample: 2.36%"
   ]
  },
  {
   "cell_type": "code",
   "execution_count": 8,
   "id": "b8316d04",
   "metadata": {},
   "outputs": [
    {
     "data": {
      "text/plain": [
       "   Min. 1st Qu.  Median    Mean 3rd Qu.    Max.    NA's \n",
       " 0.0000  0.0000  0.0000  0.0236  0.0000  1.0000       9 "
      ]
     },
     "metadata": {},
     "output_type": "display_data"
    }
   ],
   "source": [
    "summary(addhealth_w3$eatdis)"
   ]
  },
  {
   "cell_type": "code",
   "execution_count": 9,
   "id": "ac1dc884",
   "metadata": {},
   "outputs": [],
   "source": [
    "addhealth_w3 <- mutate(addhealth_w3, \n",
    "                       age = CALCAGE3\n",
    "                       )"
   ]
  },
  {
   "cell_type": "code",
   "execution_count": 12,
   "id": "54523e00",
   "metadata": {},
   "outputs": [],
   "source": [
    "addhealth_w3 <- mutate(addhealth_w3, \n",
    "                       blacknh = \n",
    "                       (H3OD4B == 1)*(H3OD2 == 0)\n",
    "                       )"
   ]
  },
  {
   "cell_type": "code",
   "execution_count": 11,
   "id": "623ac5e3",
   "metadata": {},
   "outputs": [
    {
     "data": {
      "text/plain": [
       "   Min. 1st Qu.  Median    Mean 3rd Qu.    Max. \n",
       " 0.0000  0.0000  0.0000  0.2401  0.0000  1.0000 "
      ]
     },
     "metadata": {},
     "output_type": "display_data"
    }
   ],
   "source": [
    "summary(addhealth_w3$blacknh)"
   ]
  },
  {
   "cell_type": "code",
   "execution_count": 21,
   "id": "647ec45c",
   "metadata": {},
   "outputs": [],
   "source": [
    "addhealth_w3 <- mutate(addhealth_w3, \n",
    "                       hispanic = \n",
    "                       ifelse(H3OD2 == 1,1,0)\n",
    "                       )"
   ]
  },
  {
   "cell_type": "code",
   "execution_count": 18,
   "id": "7feee1ed",
   "metadata": {},
   "outputs": [],
   "source": [
    "addhealth_w3 <- mutate(addhealth_w3, \n",
    "                       othernh = \n",
    "                       (H3OD4A == 0)*(H3OD4B == 0)*(H3OD2 == 0)\n",
    "                       )"
   ]
  },
  {
   "cell_type": "code",
   "execution_count": 14,
   "id": "7d3b0c1a",
   "metadata": {},
   "outputs": [
    {
     "data": {
      "text/plain": [
       "   Min. 1st Qu.  Median    Mean 3rd Qu.    Max. \n",
       " 0.0000  0.0000  0.0000  0.0424  0.0000  1.0000 "
      ]
     },
     "metadata": {},
     "output_type": "display_data"
    }
   ],
   "source": [
    "summary(addhealth_w3$othernh)"
   ]
  },
  {
   "cell_type": "code",
   "execution_count": 23,
   "id": "c9a87b67",
   "metadata": {},
   "outputs": [],
   "source": [
    "# Let's code edyrs so that first year of grad\n",
    "# school (H3ED1 == 18) becomes 17 years\n",
    "addhealth_w3 <- addhealth_w3 %>%\n",
    "mutate(edyrs = case_when(\n",
    "    H3ED1 == 6 ~ 6,\n",
    "    H3ED1 == 7 ~ 7,\n",
    "    H3ED1 == 8 ~ 8,\n",
    "    H3ED1 == 9 ~ 9,\n",
    "    H3ED1 == 10 ~ 10,\n",
    "    H3ED1 == 11 ~ 11,\n",
    "    H3ED1 == 12 ~ 12,\n",
    "    H3ED1 == 13 ~ 13,\n",
    "    H3ED1 == 14 ~ 14,\n",
    "    H3ED1 == 15 ~ 15,\n",
    "    H3ED1 == 16 ~ 16,\n",
    "    H3ED1 == 17 ~ 17,\n",
    "    H3ED1 == 18 ~ 17,\n",
    "    H3ED1 == 19 ~ 18,\n",
    "    H3ED1 == 20 ~ 19,\n",
    "    H3ED1 == 21 ~ 20,\n",
    "    H3ED1 == 22 ~ 21,\n",
    "))"
   ]
  },
  {
   "cell_type": "code",
   "execution_count": 25,
   "id": "6e4fd4c0",
   "metadata": {},
   "outputs": [
    {
     "data": {
      "text/plain": [
       "   Min. 1st Qu.  Median    Mean 3rd Qu.    Max.    NA's \n",
       "   6.00   12.00   13.00   13.19   14.00   21.00       4 "
      ]
     },
     "metadata": {},
     "output_type": "display_data"
    }
   ],
   "source": [
    "summary(addhealth_w3$edyrs)"
   ]
  },
  {
   "cell_type": "code",
   "execution_count": 27,
   "id": "1a81543a",
   "metadata": {},
   "outputs": [],
   "source": [
    "addhealth_w3 <- mutate(addhealth_w3, \n",
    "                       foodstamps = \n",
    "                       ifelse(H3EC1C < 6, H3EC1C, NA)\n",
    "                       )"
   ]
  },
  {
   "cell_type": "code",
   "execution_count": 28,
   "id": "4bd1f800",
   "metadata": {},
   "outputs": [
    {
     "data": {
      "text/plain": [
       "   Min. 1st Qu.  Median    Mean 3rd Qu.    Max.    NA's \n",
       "0.00000 0.00000 0.00000 0.04872 0.00000 1.00000      18 "
      ]
     },
     "metadata": {},
     "output_type": "display_data"
    }
   ],
   "source": [
    "summary(addhealth_w3$foodstamps)"
   ]
  },
  {
   "cell_type": "code",
   "execution_count": 29,
   "id": "d06cb595",
   "metadata": {},
   "outputs": [
    {
     "data": {
      "text/plain": [
       "\n",
       "Call:\n",
       "lm(formula = eatdis ~ female + blacknh + hispanic + othernh + \n",
       "    edyrs + foodstamps, data = addhealth_w3)\n",
       "\n",
       "Residuals:\n",
       "     Min       1Q   Median       3Q      Max \n",
       "-0.06482 -0.04432 -0.02368 -0.00930  1.01073 \n",
       "\n",
       "Coefficients:\n",
       "             Estimate Std. Error t value Pr(>|t|)    \n",
       "(Intercept)  0.013679   0.015501   0.882    0.378    \n",
       "female       0.035341   0.004414   8.006 1.47e-15 ***\n",
       "blacknh     -0.020649   0.005250  -3.933 8.51e-05 ***\n",
       "hispanic    -0.008032   0.007211  -1.114    0.265    \n",
       "othernh      0.002411   0.010853   0.222    0.824    \n",
       "edyrs       -0.000313   0.001149  -0.272    0.785    \n",
       "foodstamps   0.016517   0.010398   1.589    0.112    \n",
       "---\n",
       "Signif. codes:  0 ‘***’ 0.001 ‘**’ 0.01 ‘*’ 0.05 ‘.’ 0.1 ‘ ’ 1\n",
       "\n",
       "Residual standard error: 0.1509 on 4848 degrees of freedom\n",
       "  (27 observations deleted due to missingness)\n",
       "Multiple R-squared:  0.0173,\tAdjusted R-squared:  0.01609 \n",
       "F-statistic: 14.23 on 6 and 4848 DF,  p-value: 3.882e-16\n"
      ]
     },
     "metadata": {},
     "output_type": "display_data"
    }
   ],
   "source": [
    "eatdis_reg1 <- lm(eatdis ~ female + \n",
    "                  blacknh + hispanic + othernh +\n",
    "                  edyrs +\n",
    "                  foodstamps,\n",
    "                 data = addhealth_w3)\n",
    "summary(eatdis_reg1)"
   ]
  },
  {
   "cell_type": "code",
   "execution_count": null,
   "id": "a2e6435d",
   "metadata": {},
   "outputs": [],
   "source": []
  }
 ],
 "metadata": {
  "kernelspec": {
   "display_name": "R",
   "language": "R",
   "name": "ir"
  },
  "language_info": {
   "codemirror_mode": "r",
   "file_extension": ".r",
   "mimetype": "text/x-r-source",
   "name": "R",
   "pygments_lexer": "r",
   "version": "4.3.1"
  }
 },
 "nbformat": 4,
 "nbformat_minor": 5
}
